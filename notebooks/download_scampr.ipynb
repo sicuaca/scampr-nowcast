{
 "cells": [
  {
   "cell_type": "code",
   "execution_count": 2,
   "id": "initial_id",
   "metadata": {
    "collapsed": true,
    "ExecuteTime": {
     "end_time": "2025-10-08T04:03:27.127545Z",
     "start_time": "2025-10-08T04:03:24.884494700Z"
    }
   },
   "outputs": [],
   "source": [
    "import os\n",
    "import sys\n",
    "import boto3\n",
    "import yaml\n",
    "from botocore import UNSIGNED\n",
    "from botocore.config import Config\n",
    "\n",
    "from datetime import datetime, timedelta\n",
    "from datetime import UTC\n",
    "import io\n",
    "import xarray as xr\n",
    "import numpy as np"
   ]
  },
  {
   "cell_type": "code",
   "execution_count": 8,
   "outputs": [],
   "source": [
    "def read_config(config:os.PathLike)->dict:\n",
    "    required_keys = ['bucket_name','prefix','product','nc_storage_dir','nc_filename_template']\n",
    "    try:\n",
    "        with open(config,'r') as f:\n",
    "            cfg = yaml.safe_load(f)\n",
    "        for key in required_keys:\n",
    "            if key not in cfg:\n",
    "                print(f\"Error: key '{key}' not found in config.\")\n",
    "    except FileNotFoundError:\n",
    "        raise\n",
    "    return cfg"
   ],
   "metadata": {
    "collapsed": false,
    "ExecuteTime": {
     "end_time": "2025-10-08T04:04:03.418811300Z",
     "start_time": "2025-10-08T04:04:03.402234900Z"
    }
   },
   "id": "59c8d6a2f9699680"
  },
  {
   "cell_type": "code",
   "execution_count": 4,
   "outputs": [],
   "source": [
    "def transform_data(data,clip=None):\n",
    "    ds = xr.open_dataset(data, engine='h5netcdf')\n",
    "    # Original dimension\n",
    "    nrows = ds.sizes[\"Rows\"]   # atau \"row\"\n",
    "    ncols = ds.sizes[\"Columns\"] # atau \"column\"\n",
    "    \n",
    "    # metadata\n",
    "    lat_min = float(ds.geospatial_lat_min)\n",
    "    lat_max = float(ds.geospatial_lat_max)\n",
    "    lon_min = float(ds.geospatial_lon_min)\n",
    "    lon_max = float(ds.geospatial_lon_max)\n",
    "    \n",
    "    # generate grids coordinates\n",
    "    lats = np.linspace(lat_max, lat_min, nrows)   # north → south\n",
    "    lons = np.linspace(lon_min, lon_max, ncols)\n",
    "    \n",
    "    # Assign koordinat\n",
    "    ds = ds.assign_coords(\n",
    "        lat=(\"Rows\", lats),\n",
    "        lon=(\"Columns\", lons)\n",
    "    )\n",
    "    \n",
    "    # Ganti dimensi: row→lat, column→lon\n",
    "    ds = ds.swap_dims({\"Rows\": \"lat\", \"Columns\": \"lon\"})\n",
    "    \n",
    "    # Tambahkan atribut CF\n",
    "    ds[\"lat\"].attrs = {\n",
    "        \"standard_name\": \"latitude\",\n",
    "        \"long_name\": \"latitude\",\n",
    "        \"units\": \"degrees_north\"\n",
    "    }\n",
    "    ds[\"lon\"].attrs = {\n",
    "        \"standard_name\": \"longitude\",\n",
    "        \"long_name\": \"longitude\",\n",
    "        \"units\": \"degrees_east\"\n",
    "    }\n",
    "    \n",
    "    if clip:\n",
    "        north, south, west, east = clip\n",
    "        ds_clip = ds['RRQPE'].sel(\n",
    "        lon=slice(west, east),\n",
    "        lat=slice(north, south) )\n",
    "        ds_clip.attrs = ds.attrs.copy()\n",
    "\n",
    "        ds_clip.attrs['geospatial_lat_min'] = float(ds_clip.lat.min())\n",
    "        ds_clip.attrs['geospatial_lat_max'] = float(ds_clip.lat.max())\n",
    "        ds_clip.attrs['geospatial_lon_min'] = float(ds_clip.lon.min())\n",
    "        ds_clip.attrs['geospatial_lon_max'] = float(ds_clip.lon.max())\n",
    "        return ds_clip\n",
    "    \n",
    "    else:\n",
    "        return ds"
   ],
   "metadata": {
    "collapsed": false,
    "ExecuteTime": {
     "end_time": "2025-10-08T04:03:27.148310500Z",
     "start_time": "2025-10-08T04:03:27.141103900Z"
    }
   },
   "id": "d106849c01901812"
  },
  {
   "cell_type": "code",
   "execution_count": 5,
   "outputs": [],
   "source": [
    "def get_latest_file(bucket, prefixes, substring=\"GLB-5\"):\n",
    "    s3 = boto3.client(\"s3\", config=Config(signature_version=UNSIGNED))\n",
    "    \n",
    "    for prefix in prefixes:\n",
    "        print(f\"Looking for data at {prefix}\")\n",
    "        response = s3.list_objects_v2(Bucket=bucket, Prefix=prefix)\n",
    "        contents = response.get(\"Contents\", [])\n",
    "        if not contents:\n",
    "            continue  # coba prefix berikutnya\n",
    "        \n",
    "        # filter berdasarkan substring\n",
    "        filtered = [obj for obj in contents if substring in obj[\"Key\"]]\n",
    "        if filtered:\n",
    "            # ambil objek terbaru tanpa sort full list\n",
    "            latest = max(filtered, key=lambda x: x[\"LastModified\"])\n",
    "            return latest\n",
    "    return None"
   ],
   "metadata": {
    "collapsed": false,
    "ExecuteTime": {
     "end_time": "2025-10-08T04:03:27.356429800Z",
     "start_time": "2025-10-08T04:03:27.347890700Z"
    }
   },
   "id": "de7dc635bfa5cb4e"
  },
  {
   "cell_type": "code",
   "execution_count": 6,
   "outputs": [],
   "source": [
    "def download_scampr(config:str|os.PathLike):\n",
    "    now = datetime.now(UTC)\n",
    "    now_1= now-timedelta(hours=1)\n",
    "    print(f\"Initializing download at {now:%m-%d %H:%M}\")\n",
    "    \n",
    "    cfg = read_config(config)\n",
    "    bucket_name = cfg.get('bucket_name')\n",
    "    clip = cfg.get('clip')\n",
    "    prefix = cfg.get('prefix').format(datestring=now.strftime('%Y/%m/%d/%H'))\n",
    "    prefix_1 = cfg.get('prefix').format(datestring=now_1.strftime('%Y/%m/%d/%H'))\n",
    "    prefixes = [prefix, prefix_1] \n",
    "    latest_obj = get_latest_file(bucket_name, prefixes)\n",
    "    local_dir = cfg.get('local_storage_dir')\n",
    "    \n",
    "    if latest_obj:\n",
    "        print(f\"Latest data is {latest_obj['Key']}\")\n",
    "        #check if data is downloaded\n",
    "        filename_aws = os.path.basename(latest_obj[\"Key\"])\n",
    "        timestamp = filename_aws.split(\"_\")[3][1:]\n",
    "        \n",
    "        if clip:\n",
    "            filename_check = cfg.get('filename_template').format(datestring=timestamp)\n",
    "            local_file = os.path.join(local_dir,filename_check)\n",
    "        else:\n",
    "            local_file = os.path.join(local_dir,filename_aws)\n",
    "        \n",
    "        if not os.path.isfile(local_file):\n",
    "            s3 = boto3.client(\"s3\", config=Config(signature_version=UNSIGNED))\n",
    "            obj = s3.get_object(Bucket=bucket_name, Key=latest_obj[\"Key\"])\n",
    "            data = io.BytesIO(obj[\"Body\"].read())\n",
    "        elif os.path.isfile(local_file):\n",
    "            #check file size\n",
    "            file_size = os.path.getsize(local_file)\n",
    "            # if file size less than 700KB, re-download\n",
    "            if file_size < 700*1024:\n",
    "                print(f\"File size {file_size} bytes is less than 700KB, re-downloading...\")\n",
    "                s3 = boto3.client(\"s3\", config=Config(signature_version=UNSIGNED))\n",
    "                obj = s3.get_object(Bucket=bucket_name, Key=latest_obj[\"Key\"])\n",
    "                data = io.BytesIO(obj[\"Body\"].read())\n",
    "            else:\n",
    "                print(f\"File already exists: {local_file}, skipping download.\")\n",
    "        else:\n",
    "            print(f\"File already exists: {local_file}, skipping download.\")\n",
    "                    \n",
    "    else:\n",
    "        print(\"No matching files found\")\n",
    "        data = None\n",
    "        \n",
    "    print(\"Transforming data to xarray dataset\")\n",
    "    ds = transform_data(data,clip)\n",
    "    \n",
    "    print(\"Saving to netcdf\")\n",
    "    file_datestring = datetime.strptime(ds.attrs['time_coverage_start'], \"%Y-%m-%dT%H:%M:%SZ\").strftime(\"%Y%m%d%H%M000\")\n",
    "    \n",
    "    filename = cfg.get('filename_template').format(datestring=file_datestring)\n",
    "    output_file = os.path.join(local_dir,filename)\n",
    "    ds.to_netcdf(output_file)"
   ],
   "metadata": {
    "collapsed": false,
    "ExecuteTime": {
     "end_time": "2025-10-08T04:03:28.456612500Z",
     "start_time": "2025-10-08T04:03:28.444540300Z"
    }
   },
   "id": "1520f45cbd9fd32e"
  },
  {
   "cell_type": "code",
   "execution_count": 7,
   "outputs": [
    {
     "name": "stderr",
     "output_type": "stream",
     "text": [
      "<>:1: SyntaxWarning: invalid escape sequence '\\P'\n",
      "<>:1: SyntaxWarning: invalid escape sequence '\\P'\n",
      "C:\\Users\\USER\\AppData\\Local\\Temp\\ipykernel_39716\\3155809053.py:1: SyntaxWarning: invalid escape sequence '\\P'\n",
      "  download_scampr(\"D:\\Projects\\scampr-nowcasting\\config.yaml\")\n"
     ]
    },
    {
     "name": "stdout",
     "output_type": "stream",
     "text": [
      "Initializing download at 10-08 04:03\n",
      "Error: key 'local_storage_dir' not found in config.\n",
      "Error: key 'filename_template' not found in config.\n",
      "Looking for data at BLEND/RainRate-Blend-INST/2025/10/08/04\n",
      "Looking for data at BLEND/RainRate-Blend-INST/2025/10/08/03\n",
      "Latest data is BLEND/RainRate-Blend-INST/2025/10/08/03/RRQPE-INST-GLB-5_v1r1_blend_s202510080340000_e202510080349599_c202510080359186.nc\n"
     ]
    },
    {
     "name": "stderr",
     "output_type": "stream",
     "text": [
      "C:\\Users\\USER\\AppData\\Local\\Temp\\ipykernel_39716\\3155809053.py:1: SyntaxWarning: invalid escape sequence '\\P'\n",
      "  download_scampr(\"D:\\Projects\\scampr-nowcasting\\config.yaml\")\n"
     ]
    },
    {
     "ename": "AttributeError",
     "evalue": "'NoneType' object has no attribute 'format'",
     "output_type": "error",
     "traceback": [
      "\u001B[31m---------------------------------------------------------------------------\u001B[39m",
      "\u001B[31mAttributeError\u001B[39m                            Traceback (most recent call last)",
      "\u001B[36mCell\u001B[39m\u001B[36m \u001B[39m\u001B[32mIn[7]\u001B[39m\u001B[32m, line 1\u001B[39m\n\u001B[32m----> \u001B[39m\u001B[32m1\u001B[39m \u001B[43mdownload_scampr\u001B[49m\u001B[43m(\u001B[49m\u001B[33;43m\"\u001B[39;49m\u001B[33;43mD:\u001B[39;49m\u001B[33;43m\\\u001B[39;49m\u001B[33;43mProjects\u001B[39;49m\u001B[33;43m\\\u001B[39;49m\u001B[33;43mscampr-nowcasting\u001B[39;49m\u001B[33;43m\\\u001B[39;49m\u001B[33;43mconfig.yaml\u001B[39;49m\u001B[33;43m\"\u001B[39;49m\u001B[43m)\u001B[49m\n",
      "\u001B[36mCell\u001B[39m\u001B[36m \u001B[39m\u001B[32mIn[6]\u001B[39m\u001B[32m, line 22\u001B[39m, in \u001B[36mdownload_scampr\u001B[39m\u001B[34m(config)\u001B[39m\n\u001B[32m     19\u001B[39m timestamp = filename_aws.split(\u001B[33m\"\u001B[39m\u001B[33m_\u001B[39m\u001B[33m\"\u001B[39m)[\u001B[32m3\u001B[39m][\u001B[32m1\u001B[39m:]\n\u001B[32m     21\u001B[39m \u001B[38;5;28;01mif\u001B[39;00m clip:\n\u001B[32m---> \u001B[39m\u001B[32m22\u001B[39m     filename_check = \u001B[43mcfg\u001B[49m\u001B[43m.\u001B[49m\u001B[43mget\u001B[49m\u001B[43m(\u001B[49m\u001B[33;43m'\u001B[39;49m\u001B[33;43mfilename_template\u001B[39;49m\u001B[33;43m'\u001B[39;49m\u001B[43m)\u001B[49m\u001B[43m.\u001B[49m\u001B[43mformat\u001B[49m(datestring=timestamp)\n\u001B[32m     23\u001B[39m     local_file = os.path.join(local_dir,filename_check)\n\u001B[32m     24\u001B[39m \u001B[38;5;28;01melse\u001B[39;00m:\n",
      "\u001B[31mAttributeError\u001B[39m: 'NoneType' object has no attribute 'format'"
     ]
    }
   ],
   "source": [
    "download_scampr(\"D:\\Projects\\scampr-nowcasting\\config.yaml\")"
   ],
   "metadata": {
    "collapsed": false,
    "ExecuteTime": {
     "end_time": "2025-10-08T04:03:34.233284500Z",
     "start_time": "2025-10-08T04:03:32.758760700Z"
    }
   },
   "id": "61df0d602517947e"
  },
  {
   "cell_type": "code",
   "execution_count": 17,
   "outputs": [],
   "source": [
    "now = datetime.now(UTC)"
   ],
   "metadata": {
    "collapsed": false,
    "ExecuteTime": {
     "end_time": "2025-10-04T04:17:52.063007700Z",
     "start_time": "2025-10-04T04:17:52.049569Z"
    }
   },
   "id": "459b44e2634a28fd"
  },
  {
   "cell_type": "code",
   "execution_count": 18,
   "outputs": [],
   "source": [
    "s3_client = boto3.client('s3', config=Config(signature_version=UNSIGNED))\n",
    "bucket_name = \"noaa-enterprise-rainrate-pds\"\n",
    "prefix = f\"BLEND/RainRate-Blend-INST/{now:%Y/%m/%d/%H/}\"\n",
    "prefix_1 = f\"BLEND/RainRate-Blend-INST/{(now - timedelta(hours=1)):%Y/%m/%d/%H/}\""
   ],
   "metadata": {
    "collapsed": false,
    "ExecuteTime": {
     "end_time": "2025-10-04T04:17:53.065102Z",
     "start_time": "2025-10-04T04:17:53.026290600Z"
    }
   },
   "id": "7cc85c9924d0454d"
  },
  {
   "cell_type": "code",
   "execution_count": 19,
   "outputs": [],
   "source": [
    "response = s3_client.list_objects_v2(Bucket=bucket_name, Prefix=prefix)\n",
    "if 'Contents' not in response:\n",
    "    response = s3_client.list_objects_v2(Bucket=bucket_name, Prefix=prefix_1)\n",
    "\n",
    "objects = response.get(\"Contents\", [])\n",
    "filtered = [obj for obj in objects if \"GLB-5\" in obj[\"Key\"]]\n",
    "filtered = sorted(filtered, key=lambda x: x[\"LastModified\"], reverse=True)\n"
   ],
   "metadata": {
    "collapsed": false,
    "ExecuteTime": {
     "end_time": "2025-10-04T04:17:55.984654600Z",
     "start_time": "2025-10-04T04:17:54.985877800Z"
    }
   },
   "id": "1269811af217bec4"
  },
  {
   "cell_type": "code",
   "execution_count": 20,
   "outputs": [
    {
     "ename": "IndexError",
     "evalue": "list index out of range",
     "output_type": "error",
     "traceback": [
      "\u001B[31m---------------------------------------------------------------------------\u001B[39m",
      "\u001B[31mIndexError\u001B[39m                                Traceback (most recent call last)",
      "\u001B[36mCell\u001B[39m\u001B[36m \u001B[39m\u001B[32mIn[20]\u001B[39m\u001B[32m, line 1\u001B[39m\n\u001B[32m----> \u001B[39m\u001B[32m1\u001B[39m obj = s3_client.get_object(Bucket=bucket_name, Key=filtered[\u001B[32m0\u001B[39m][\u001B[33m\"\u001B[39m\u001B[33mKey\u001B[39m\u001B[33m\"\u001B[39m])\n\u001B[32m      2\u001B[39m data = io.BytesIO(obj[\u001B[33m\"\u001B[39m\u001B[33mBody\u001B[39m\u001B[33m\"\u001B[39m].read())\n",
      "\u001B[31mIndexError\u001B[39m: list index out of range"
     ]
    }
   ],
   "source": [
    "obj = s3_client.get_object(Bucket=bucket_name, Key=filtered[0][\"Key\"])\n",
    "data = io.BytesIO(obj[\"Body\"].read())"
   ],
   "metadata": {
    "collapsed": false,
    "ExecuteTime": {
     "end_time": "2025-10-04T04:18:01.051294100Z",
     "start_time": "2025-10-04T04:18:01.031857200Z"
    }
   },
   "id": "9c949f32f39f5a58"
  },
  {
   "cell_type": "code",
   "execution_count": 23,
   "outputs": [
    {
     "data": {
      "text/plain": "[{'Key': 'BLEND/RainRate-Blend-INST/2025/10/04/04/RRQPE-INST-GLB-2_v1r1_blend_s202510040400000_e202510040409599_c202510040413095.nc',\n  'LastModified': datetime.datetime(2025, 10, 4, 4, 13, 32, tzinfo=tzutc()),\n  'ETag': '\"df61b43bdbfab5026dbd687435a56670\"',\n  'ChecksumAlgorithm': ['CRC32'],\n  'ChecksumType': 'FULL_OBJECT',\n  'Size': 2200848,\n  'StorageClass': 'STANDARD'}]"
     },
     "execution_count": 23,
     "metadata": {},
     "output_type": "execute_result"
    }
   ],
   "source": [
    "objects"
   ],
   "metadata": {
    "collapsed": false,
    "ExecuteTime": {
     "end_time": "2025-10-04T04:18:54.740158600Z",
     "start_time": "2025-10-04T04:18:54.730240300Z"
    }
   },
   "id": "843930701f1324f3"
  },
  {
   "cell_type": "code",
   "execution_count": 7,
   "outputs": [],
   "source": [
    "ds = xr.open_dataset(data, engine='h5netcdf')"
   ],
   "metadata": {
    "collapsed": false,
    "ExecuteTime": {
     "end_time": "2025-10-03T07:53:32.590551200Z",
     "start_time": "2025-10-03T07:53:31.846570800Z"
    }
   },
   "id": "7d2fe3cb65427640"
  },
  {
   "cell_type": "code",
   "execution_count": 10,
   "outputs": [
    {
     "data": {
      "text/plain": "{'units': 'mm/h',\n 'long_name': 'Rainfall Rate Quantitative Precipitation Estimates'}"
     },
     "execution_count": 10,
     "metadata": {},
     "output_type": "execute_result"
    }
   ],
   "source": [
    "ds['RRQPE'].attrs"
   ],
   "metadata": {
    "collapsed": false,
    "ExecuteTime": {
     "end_time": "2025-10-03T07:54:32.366528700Z",
     "start_time": "2025-10-03T07:54:32.349173100Z"
    }
   },
   "id": "d6e7c7a3a3b3d965"
  },
  {
   "cell_type": "code",
   "execution_count": 8,
   "outputs": [],
   "source": [
    "# Original dimension\n",
    "nrows = ds.sizes[\"Rows\"]   # atau \"row\"\n",
    "ncols = ds.sizes[\"Columns\"] # atau \"column\"\n",
    "\n",
    "# metadata\n",
    "lat_min = float(ds.geospatial_lat_min)\n",
    "lat_max = float(ds.geospatial_lat_max)\n",
    "lon_min = float(ds.geospatial_lon_min)\n",
    "lon_max = float(ds.geospatial_lon_max)\n",
    "\n",
    "# generate grids coordinates\n",
    "lats = np.linspace(lat_max, lat_min, nrows)   # north → south\n",
    "lons = np.linspace(lon_min, lon_max, ncols)\n",
    "\n",
    "# Assign koordinat\n",
    "ds = ds.assign_coords(\n",
    "    lat=(\"Rows\", lats),\n",
    "    lon=(\"Columns\", lons)\n",
    ")\n",
    "\n",
    "# Ganti dimensi: row→lat, column→lon\n",
    "ds = ds.swap_dims({\"Rows\": \"lat\", \"Columns\": \"lon\"})\n",
    "\n",
    "# Tambahkan atribut CF\n",
    "ds[\"lat\"].attrs = {\n",
    "    \"standard_name\": \"latitude\",\n",
    "    \"long_name\": \"latitude\",\n",
    "    \"units\": \"degrees_north\"\n",
    "}\n",
    "ds[\"lon\"].attrs = {\n",
    "    \"standard_name\": \"longitude\",\n",
    "    \"long_name\": \"longitude\",\n",
    "    \"units\": \"degrees_east\"\n",
    "}"
   ],
   "metadata": {
    "collapsed": false,
    "ExecuteTime": {
     "end_time": "2025-10-02T09:08:12.716413Z",
     "start_time": "2025-10-02T09:08:12.692088200Z"
    }
   },
   "id": "dd860949869bf615"
  },
  {
   "cell_type": "code",
   "execution_count": 23,
   "outputs": [],
   "source": [
    "ds_clip = ds['RRQPE'].sel(\n",
    "    lon=slice(lon_min, lon_max),\n",
    "    lat=slice(25, -25)  # ingat: lat dari utara ke selatan\n",
    ")"
   ],
   "metadata": {
    "collapsed": false,
    "ExecuteTime": {
     "end_time": "2025-10-02T09:18:43.547079200Z",
     "start_time": "2025-10-02T09:18:43.527670700Z"
    }
   },
   "id": "62bd9bdf67cce753"
  },
  {
   "cell_type": "code",
   "execution_count": 25,
   "outputs": [],
   "source": [
    "ds_clip.attrs = ds.attrs.copy()"
   ],
   "metadata": {
    "collapsed": false,
    "ExecuteTime": {
     "end_time": "2025-10-02T09:19:39.664692300Z",
     "start_time": "2025-10-02T09:19:39.643532700Z"
    }
   },
   "id": "763bbadc15834ed4"
  },
  {
   "cell_type": "code",
   "execution_count": 27,
   "outputs": [],
   "source": [
    "ds_clip.attrs['geospatial_lat_min'] = float(ds_clip.lat.min())\n",
    "ds_clip.attrs['geospatial_lat_max'] = float(ds_clip.lat.max())\n",
    "ds_clip.attrs['geospatial_lon_min'] = float(ds_clip.lon.min())\n",
    "ds_clip.attrs['geospatial_lon_max'] = float(ds_clip.lon.max())\n",
    "start_time = datetime.strptime(ds_clip.attrs['time_coverage_start'], \"%Y-%m-%dT%H:%M:%SZ\")"
   ],
   "metadata": {
    "collapsed": false,
    "ExecuteTime": {
     "end_time": "2025-10-02T09:24:03.577490500Z",
     "start_time": "2025-10-02T09:24:03.554426900Z"
    }
   },
   "id": "e557f068420aa8ca"
  },
  {
   "cell_type": "code",
   "execution_count": 33,
   "outputs": [],
   "source": [
    "ds_clip.to_netcdf(f\"scampr_indonesia_{start_time:%Y%m%d%H%M}.nc\")"
   ],
   "metadata": {
    "collapsed": false,
    "ExecuteTime": {
     "end_time": "2025-10-02T09:29:53.121347800Z",
     "start_time": "2025-10-02T09:29:52.038867800Z"
    }
   },
   "id": "10dcdaf38a4b86cc"
  },
  {
   "cell_type": "code",
   "execution_count": 16,
   "outputs": [
    {
     "ename": "NameError",
     "evalue": "name 'ds_clip' is not defined",
     "output_type": "error",
     "traceback": [
      "\u001B[31m---------------------------------------------------------------------------\u001B[39m",
      "\u001B[31mNameError\u001B[39m                                 Traceback (most recent call last)",
      "\u001B[36mCell\u001B[39m\u001B[36m \u001B[39m\u001B[32mIn[16]\u001B[39m\u001B[32m, line 1\u001B[39m\n\u001B[32m----> \u001B[39m\u001B[32m1\u001B[39m ds_clip\n",
      "\u001B[31mNameError\u001B[39m: name 'ds_clip' is not defined"
     ]
    }
   ],
   "source": [
    "ds_clip"
   ],
   "metadata": {
    "collapsed": false,
    "ExecuteTime": {
     "end_time": "2025-10-04T03:36:03.364470600Z",
     "start_time": "2025-10-04T03:36:03.310751600Z"
    }
   },
   "id": "18d999434b0911e2"
  },
  {
   "cell_type": "code",
   "execution_count": 34,
   "outputs": [
    {
     "data": {
      "text/plain": "165"
     },
     "execution_count": 34,
     "metadata": {},
     "output_type": "execute_result"
    }
   ],
   "source": [
    "lon_max"
   ],
   "metadata": {
    "collapsed": false,
    "ExecuteTime": {
     "end_time": "2025-10-02T12:00:46.202438400Z",
     "start_time": "2025-10-02T12:00:46.197219900Z"
    }
   },
   "id": "a2fd02c5d7eb02f9"
  },
  {
   "cell_type": "code",
   "execution_count": 35,
   "outputs": [
    {
     "data": {
      "text/plain": "70"
     },
     "execution_count": 35,
     "metadata": {},
     "output_type": "execute_result"
    }
   ],
   "source": [
    "lon_min"
   ],
   "metadata": {
    "collapsed": false,
    "ExecuteTime": {
     "end_time": "2025-10-02T12:00:48.983476800Z",
     "start_time": "2025-10-02T12:00:48.971754300Z"
    }
   },
   "id": "8879d837e5e6c0e2"
  },
  {
   "cell_type": "code",
   "execution_count": null,
   "outputs": [],
   "source": [],
   "metadata": {
    "collapsed": false
   },
   "id": "acf7b603cde80967"
  }
 ],
 "metadata": {
  "kernelspec": {
   "display_name": "Python 3",
   "language": "python",
   "name": "python3"
  },
  "language_info": {
   "codemirror_mode": {
    "name": "ipython",
    "version": 2
   },
   "file_extension": ".py",
   "mimetype": "text/x-python",
   "name": "python",
   "nbconvert_exporter": "python",
   "pygments_lexer": "ipython2",
   "version": "2.7.6"
  }
 },
 "nbformat": 4,
 "nbformat_minor": 5
}
